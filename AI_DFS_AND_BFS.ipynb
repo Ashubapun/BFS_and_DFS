{
  "nbformat": 4,
  "nbformat_minor": 0,
  "metadata": {
    "colab": {
      "provenance": [],
      "authorship_tag": "ABX9TyOvqPM9/nabnxHmc9c6vXOh",
      "include_colab_link": true
    },
    "kernelspec": {
      "name": "python3",
      "display_name": "Python 3"
    },
    "language_info": {
      "name": "python"
    }
  },
  "cells": [
    {
      "cell_type": "markdown",
      "metadata": {
        "id": "view-in-github",
        "colab_type": "text"
      },
      "source": [
        "<a href=\"https://colab.research.google.com/github/Ashubapun/BFS_and_DFS/blob/main/AI_DFS_AND_BFS.ipynb\" target=\"_parent\"><img src=\"https://colab.research.google.com/assets/colab-badge.svg\" alt=\"Open In Colab\"/></a>"
      ]
    },
    {
      "cell_type": "markdown",
      "source": [
        "# **Breadth First Search**"
      ],
      "metadata": {
        "id": "U6NtVMOI_cGI"
      }
    },
    {
      "cell_type": "code",
      "execution_count": 1,
      "metadata": {
        "id": "smL5qgMWsWhw"
      },
      "outputs": [],
      "source": [
        "from collections import defaultdict\n",
        "\n",
        "class Graph:\n",
        "\n",
        "    def __init__(self):\n",
        "\n",
        "        self.graph = defaultdict(list)\n",
        "\n",
        "    def addEdge(self, u, v):\n",
        "        self.graph[u].append(v)\n",
        "\n",
        "\n",
        "    def BFS(self, s):\n",
        "\n",
        "\n",
        "        visited = [False] * (max(self.graph) + 1)\n",
        "\n",
        "\n",
        "        queue = []\n",
        "\n",
        "\n",
        "        queue.append(s)\n",
        "        visited[s] = True\n",
        "\n",
        "        while queue:\n",
        "\n",
        "\n",
        "            s = queue.pop(0)\n",
        "            print(s, end=\" \")\n",
        "\n",
        "\n",
        "            for i in self.graph[s]:\n",
        "                if visited[i] == False:\n",
        "                    queue.append(i)\n",
        "                    visited[i] = True\n",
        "\n",
        "\n",
        "g = Graph()\n",
        "g.addEdge(1, 2)\n",
        "g.addEdge(1, 3)\n",
        "g.addEdge(1, 4)\n",
        "g.addEdge(2, 5)\n",
        "g.addEdge(2, 6)\n",
        "g.addEdge(4, 7)\n",
        "g.addEdge(4, 8)\n",
        "g.addEdge(5, 9)\n",
        "g.addEdge(5, 10)\n",
        "g.addEdge(7, 11)\n",
        "g.addEdge(7, 12)\n",
        "\n",
        "\n",
        "print(\"Following is Breadth First Traversal\")\n",
        "g.BFS(1)"
      ]
    },
    {
      "cell_type": "markdown",
      "source": [
        "# **Depth First Search**"
      ],
      "metadata": {
        "id": "1TLpAeyg_Uo5"
      }
    },
    {
      "cell_type": "code",
      "source": [
        "graph = {\n",
        "  '1' : ['2','3','4'],\n",
        "  '3' : [],\n",
        "  '7' : ['11', '12'],\n",
        "  '2' : ['5','6'],\n",
        "  '4' : ['7','8'],\n",
        "  '8' : [],\n",
        "  '5' : ['9', '10'],\n",
        "  '6' : [],\n",
        "  '9' : [],\n",
        "  '10' : [],\n",
        "  '11' : [],\n",
        "  '12' : [],\n",
        "}\n",
        "\n",
        "visited = set() # Set to keep track of visited nodes of graph.\n",
        "\n",
        "def dfs(visited, graph, node):  #function for dfs\n",
        "    if node not in visited:\n",
        "        print (node)\n",
        "        visited.add(node)\n",
        "        for neighbour in graph[node]:\n",
        "            dfs(visited, graph, neighbour)\n",
        "\n",
        "# Driver Code\n",
        "print(\"Following is the Depth-First Search\")\n",
        "dfs(visited, graph, '1')"
      ],
      "metadata": {
        "colab": {
          "base_uri": "https://localhost:8080/"
        },
        "id": "VfsZ5ffF23r4",
        "outputId": "d18914ce-bbd5-4ef8-f938-a337bf64e460"
      },
      "execution_count": null,
      "outputs": [
        {
          "output_type": "stream",
          "name": "stdout",
          "text": [
            "Following is the Depth-First Search\n",
            "1\n",
            "2\n",
            "5\n",
            "9\n",
            "10\n",
            "6\n",
            "3\n",
            "4\n",
            "7\n",
            "11\n",
            "12\n",
            "8\n"
          ]
        }
      ]
    },
    {
      "cell_type": "code",
      "source": [],
      "metadata": {
        "id": "l3xky3ne9lNi"
      },
      "execution_count": null,
      "outputs": []
    }
  ]
}